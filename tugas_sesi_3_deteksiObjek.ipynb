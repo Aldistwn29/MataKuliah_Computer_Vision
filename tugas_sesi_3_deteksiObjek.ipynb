{
 "cells": [
  {
   "cell_type": "code",
   "execution_count": 9,
   "metadata": {},
   "outputs": [
    {
     "name": "stdout",
     "output_type": "stream",
     "text": [
      "Program Selesai\n"
     ]
    }
   ],
   "source": [
    "import cv2\n",
    "\n",
    "# Memuat classifier Haar Cascade untuk deteksi wajah dan senyuman\n",
    "face_cascade = cv2.CascadeClassifier(cv2.data.haarcascades + 'haarcascade_frontalface_default.xml')\n",
    "smile_cascade = cv2.CascadeClassifier(cv2.data.haarcascades + 'haarcascade_smile.xml')\n",
    "glass_cascade = cv2.CascadeClassifier(cv2.data.haarcascades + 'haarcascade_eye_tree_eyeglasses.xml')\n",
    "eyes_cascade = cv2.CascadeClassifier(cv2.data.haarcascades + 'haarcascade_eye.xml')\n",
    "\n",
    "\n",
    "# Menangkap video dari kamera\n",
    "cap =cv2.VideoCapture(0)\n",
    "\n",
    "# mengatur ukuran frame\n",
    "cap.set(cv2.CAP_PROP_FRAME_WIDTH, 320)\n",
    "cap.set(cv2.CAP_PROP_FRAME_HEIGHT, 240)\n",
    "\n",
    "# Mendefinisikan prameter output video\n",
    "fileName = 'output.avi'\n",
    "imageSize = (320, 240)\n",
    "frame_per_second = 30.0\n",
    "fourcc = cv2.VideoWriter_fourcc(*\"MJPG\")\n",
    "writer = cv2.VideoWriter(fileName, fourcc, frame_per_second, imageSize)\n",
    "\n",
    "# Lopping untuk menangkap video\n",
    "while True:\n",
    "    ret, frame = cap.read()\n",
    "    if not ret:\n",
    "        break\n",
    "\n",
    "    # Mengubah frame menajadi gray scale untuk mendeteksi wajah\n",
    "    gray = cv2.cvtColor(frame, cv2.COLOR_BGR2GRAY)\n",
    "\n",
    "    # Mendeksi wajah dalam frame\n",
    "    faces = face_cascade.detectMultiScale(gray, scaleFactor=1.1, minNeighbors=10)\n",
    "    for(fx, fy, fw, fh) in faces:\n",
    "        roi_gray = gray[fy:fy + fh, fx:fx+fw]\n",
    "        roi_color = frame[fy:fy+fh, fx:fx+fw]\n",
    "\n",
    "        # Mendeteksi senyum pada roi senyum\n",
    "        smiles = smile_cascade.detectMultiScale(roi_gray, scaleFactor=1.5, minNeighbors=10)\n",
    "        for(sx, sy, sw, sh) in smiles:\n",
    "            cv2.rectangle(roi_color, (sx, sy), (sx + sw, sy + sh), (255, 0, 255), 2)\n",
    "            cv2.putText(roi_color, 'Senyum', (sx, sy - 10), cv2.FONT_HERSHEY_SIMPLEX, 0.5, (255, 0, 255), 2)\n",
    "\n",
    "    eyes = eyes_cascade.detectMultiScale(gray, scaleFactor=1.1, minNeighbors=10)\n",
    "    # menggambar persegi\n",
    "    for(ex, ey, ew, eh) in eyes:\n",
    "        cv2.rectangle(frame, (ex, ey), (ex + ew, ey + eh), (255, 0, 0), 2)\n",
    "        cv2.putText(frame, 'Mata', (ex, ey - 10), cv2.FONT_HERSHEY_SIMPLEX, 0.5, (255, 0, 0), 2)\n",
    "\n",
    "    # Mendeteksi kacamta\n",
    "    glass = glass_cascade.detectMultiScale(gray, scaleFactor=1.1, minNeighbors=14)\n",
    "    # membuat persegi panjang\n",
    "    for(gx, gy, gw, gh) in glass:\n",
    "        lebar_tambahan = 20\n",
    "        cv2.rectangle(frame, (gx - lebar_tambahan,  gy), (gx + gw + lebar_tambahan, gy + gh), (255, 0, 0), 2)\n",
    "        cv2.putText(frame, 'Kacamata Mata', (gx, gy - 10), cv2.FONT_HERSHEY_SIMPLEX, 0.5, (255, 0, 0), 2)\n",
    "\n",
    "    # Membalik frame sacara horizontal \n",
    "    img = cv2.flip(frame, 1)\n",
    "\n",
    "    # Menyimpan frame ke video\n",
    "    writer.write(img)\n",
    "\n",
    "    # Menampilkan frame video dengan deteksi mata\n",
    "    cv2.imshow('Video Capture', img)\n",
    "\n",
    "    # jika tombol 'q' di tekan keluar dari loop\n",
    "    if cv2.waitKey(1) & 0xFF == ord('q'):\n",
    "        break\n",
    "\n",
    "cap.release()\n",
    "writer.release()\n",
    "cv2.destroyAllWindows()\n",
    "print(\"Program Selesai\")"
   ]
  }
 ],
 "metadata": {
  "kernelspec": {
   "display_name": ".venv",
   "language": "python",
   "name": "python3"
  },
  "language_info": {
   "codemirror_mode": {
    "name": "ipython",
    "version": 3
   },
   "file_extension": ".py",
   "mimetype": "text/x-python",
   "name": "python",
   "nbconvert_exporter": "python",
   "pygments_lexer": "ipython3",
   "version": "3.11.5"
  }
 },
 "nbformat": 4,
 "nbformat_minor": 2
}
